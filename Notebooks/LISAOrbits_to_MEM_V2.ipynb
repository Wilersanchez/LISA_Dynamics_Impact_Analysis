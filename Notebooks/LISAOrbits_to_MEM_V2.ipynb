{
 "cells": [
  {
   "attachments": {},
   "cell_type": "markdown",
   "id": "dd1cb976-055b-4162-a771-5131cd2f0a1f",
   "metadata": {},
   "source": [
    "## __LISA ORBITS --> MEM INPUT FILE --> MEM OUTPUT ANALYSIS__\n",
    "---\n",
    "##### __Author:__ Wiler Arturo Sanchez\n",
    "##### __Affiliation:__ Precision Space Systems Laboratory, University of Florida\n",
    "##### __Objective__: The LISA Orbits toolbox allows users to generate orbit files of the LISA constellation. NASA's Meteoroid Environment Model allows users to generate the meteoroid environment of a given spacecraft trajectory. This notebook aims to connect both LISA Orbit and NASA MEM via commandline. Doing so will enable us to be conduct a full analysis of the meteoroid environment for LISA.<br>"
   ]
  },
  {
   "cell_type": "code",
   "execution_count": 47,
   "id": "acd4e963-027e-40db-9f7c-f672a8e9fa95",
   "metadata": {},
   "outputs": [],
   "source": [
    "import numpy as np\n",
    "import os\n",
    "import pandas as pd\n",
    "import matplotlib.pyplot as plt\n",
    "import lisaorbits\n",
    "import h5py"
   ]
  },
  {
   "attachments": {},
   "cell_type": "markdown",
   "id": "154da6ce-2bd1-42cf-adae-aec4abaaddcf",
   "metadata": {},
   "source": [
    "---\n",
    "\n",
    "### 1. Initialize LISA Orbit parameters"
   ]
  },
  {
   "cell_type": "code",
   "execution_count": 49,
   "id": "71e96f79-674d-4707-a770-3a30730d7a3f",
   "metadata": {},
   "outputs": [],
   "source": [
    "duration = 31536000                               # a year in seconds\n",
    "size = 1000                                       # number of elements\n",
    "t_vec = np.linspace(0, duration, size)            # time vector\n",
    "#time_origin = datetime.datetime(2034, 1, 1, 0, 0) # approximate start of LISA mission\n",
    "orbits = lisaorbits.KeplerianOrbits(size = size, dt = int(duration/size))\n",
    "file = \"LISA_KEPLER_ORBIT_1YR_SIZE1e3.h5\"\n",
    "#orbits.write(\"LISA_KEPLER_ORBIT_1YR_SIZE1e3.h5\")"
   ]
  },
  {
   "attachments": {},
   "cell_type": "markdown",
   "id": "90329d8d-baa0-4630-91d7-bc8c9d150758",
   "metadata": {},
   "source": [
    "---\n",
    "\n",
    "### 2. Ensure orbit file is generated correctly"
   ]
  },
  {
   "cell_type": "code",
   "execution_count": null,
   "id": "da100713-0d11-46f5-91bb-e7a418957303",
   "metadata": {},
   "outputs": [],
   "source": [
    "%matplotlib widget\n",
    "#orbits.plot_spacecraft(1)\n",
    "#orbits.plot_spacecraft(2)\n",
    "#orbits.plot_spacecraft(3)\n",
    "#orbits.plot_links()"
   ]
  },
  {
   "attachments": {},
   "cell_type": "markdown",
   "id": "550f6623-8080-4df3-ac5b-161b86a79f30",
   "metadata": {},
   "source": [
    "---\n",
    "\n",
    "### 3. Initialize the position and velocity state vectors from orbit file"
   ]
  },
  {
   "cell_type": "code",
   "execution_count": 50,
   "id": "3733b58e-675d-4617-b799-8ae9f7b70dd9",
   "metadata": {},
   "outputs": [],
   "source": [
    "sc_vec = ['1', '2', '3']     # spacecraft number\n",
    "dimensions = ['x', 'y', 'z'] # spacecraft axes\n",
    "dyn = ['x', 'v', 'a']        # position, velocity, acceleration\n",
    "size = 1000                  # initialize number of elements \n",
    "\n",
    "dynamics = {}                # construct dictionary to store all values\n",
    "\n",
    "# simple for loop to place sc dynamics vectors into dictionary\n",
    "for i, dyn in enumerate(dyn):\n",
    "    for j, scvec in enumerate(sc_vec):\n",
    "        for k, dim in enumerate(dimensions):\n",
    "            with h5py.File(f'./{file}', 'r') as f:\n",
    "                # barycentric coordinate time\n",
    "                # convert from distance units from km to m\n",
    "                # [number of elements, sc#, spacecraft axis]\n",
    "                dynamics[f'{scvec}_{dim}_{dyn}'] = f[f'/tcb/{dyn}'][:, j, k]/1000 "
   ]
  },
  {
   "attachments": {},
   "cell_type": "markdown",
   "id": "ee64988d-85eb-452c-bb3b-3a819f13e87f",
   "metadata": {},
   "source": [
    "#### Verify shape"
   ]
  },
  {
   "cell_type": "code",
   "execution_count": null,
   "id": "c47c0abd-5c18-4651-84ef-de94fc920126",
   "metadata": {},
   "outputs": [],
   "source": [
    "dynamics['1_x_x'].shape"
   ]
  },
  {
   "attachments": {},
   "cell_type": "markdown",
   "id": "c544170e-564d-4944-98fa-561be79101fc",
   "metadata": {},
   "source": [
    "---\n",
    "\n",
    "### 4. Format output file to fit the requirements of MEM input file"
   ]
  },
  {
   "cell_type": "code",
   "execution_count": null,
   "id": "f454b0b3-a9bd-49bd-9d59-8df4cfc57331",
   "metadata": {},
   "outputs": [],
   "source": [
    "# Define the Julian date range with 1000 steps\n",
    "start_jd = 2463964    # January 1st, 2022 (must change to 2034)\n",
    "end_jd   = 2464329    # January 1st, 2023\n",
    "jd_range = np.linspace(start_jd, end_jd, 1000)\n",
    "\n",
    "output_dir = '/home/lisauser/workspace/MEM3_Windows_301/MEM3_Windows/'\n",
    "\n",
    "# Write data to text files for each spacecraft\n",
    "for i, scvec in enumerate(sc_vec):\n",
    "    # Define file name\n",
    "    file_name = os.path.join(output_dir, f\"LISATRAJECTORY_sc_{scvec}.txt\")\n",
    "    with open(file_name, 'w') as f:\n",
    "            f.write(\"\\n\\n\\n\\n\\n\")\n",
    "            f.write(f\"Julian Date (days)   sc_{scvec}_X (km)   sc_{scvec}_Y (km)   sc_{scvec}_Z (km)   sc_{scvec}_V_X (km/s)   sc_{scvec}_V_Y (km/s)   sc_{scvec}_V_Z (km/s)\\n\")\n",
    "            for k, jd in enumerate(jd_range):\n",
    "                    f.write(f\"{jd:.5f}   {scx[i][0][k]:.5f}   {scx[i][1][k]:.5f}   {scx[i][2][k]:.5f}   {scv[i][0][k]:.5f}   {scv[i][1][k]:.5f}   {scv[i][2][k]:.5f}\\n\")\n",
    "                    for j, dim in enumerate(dimensions):\n",
    "                        df = pd.DataFrame({'Julian Date (days)': jd_range,\n",
    "                                            f'sc_{i+1}_x (km)': scx[i][j][k],\n",
    "                                            f'sc_{i+1}_y (km)': scx[i][j][k],\n",
    "                                            f'sc_{i+1}_z (km)': scx[i][j][k],\n",
    "                                            f'sc_{i+1}_vx (km/s)': scv[i][j][k],\n",
    "                                            f'sc_{i+1}_vy (km/s)': scv[i][j][k],\n",
    "                                            f'sc_{i+1}_vz (km/s)': scv[i][j][k]})"
   ]
  },
  {
   "attachments": {},
   "cell_type": "markdown",
   "id": "dc46e1c8-1856-4a25-8eac-0f008a09ebf5",
   "metadata": {},
   "source": [
    "---"
   ]
  },
  {
   "attachments": {},
   "cell_type": "markdown",
   "id": "d70d7726-a339-4a88-b003-7311ddd7ef51",
   "metadata": {},
   "source": [
    "### 5. Write *options.txt* file with desired input parameters"
   ]
  },
  {
   "cell_type": "code",
   "execution_count": null,
   "id": "1dc3d788-766d-423c-a44d-f3ae66330664",
   "metadata": {},
   "outputs": [],
   "source": [
    "import os\n",
    "!pwd"
   ]
  },
  {
   "cell_type": "code",
   "execution_count": null,
   "id": "f44ac0c1-5df3-4381-9006-e94ad62497ae",
   "metadata": {},
   "outputs": [],
   "source": [
    "os.chdir('/home/lisauser/workspace/MEM3_Windows_301/MEM3_Windows/')"
   ]
  },
  {
   "cell_type": "code",
   "execution_count": 61,
   "id": "b3dccb89-e10c-4145-bf93-5e50332ee790",
   "metadata": {},
   "outputs": [],
   "source": [
    "# create options file with the following text\n",
    "input_files = [\"LISATRAJECTORY_sc_1\", \"LISATRAJECTORY_sc_2\", \"LISATRAJECTORY_sc_3\"]\n",
    "input_origin = 'su'\n",
    "input_axes   = 'eq'\n",
    "state_vector = 'a'\n",
    "number_of_sv = '0'\n",
    "mass_min     = '-6'\n",
    "option_fidelity = 'y'\n",
    "fidelity = 'high fidelity'\n",
    "output_directory = str(f'C:\\\\LISA_simulation\\\\workspace\\\\MEM3_Windows_301\\\\MEM3_Windows\\\\')\n",
    "output_file = 'LISA_sc1_04_18_2023'\n",
    "output_origin = 'su'\n",
    "output_axes = 'bo'\n",
    "desired_output_angres = '5'\n",
    "desired_output_velres = '1'\n",
    "option_intfiles = 'n'\n",
    "output_intfiles = 'intermediate files'\n",
    "option_igloo = 'y'\n",
    "output_igloo = 'igloo files'\n",
    "option_std = 'y'\n",
    "output_std = 'standard deviations'\n",
    "\n",
    "# Write to a text file\n",
    "for i, input_file in enumerate(input_files):\n",
    "    with open('options.txt', 'w') as f:\n",
    "        f.write('#' * 80 + '\\n')\n",
    "        f.write('# Input file for the command line version of MEM 3, must be named \"options.txt\"\\n')\n",
    "        f.write('# The following files must be located in the same directory :\\n')\n",
    "        f.write('#  - MEM3Windows.exe (Windows) or mem3cl (Mac or Linux)\\n')\n",
    "        f.write('#  - bin*.dat (3 files)\\n')\n",
    "        f.write('#  - de430\\n')\n",
    "        f.write('#  - options.txt, rho1.txt, and rho2.txt\\n')\n",
    "        f.write('# This file created by MEM3GUI version 3.0\\n')\n",
    "        f.write('#' * 80 + '\\n')\n",
    "        f.write('# This input file must contain the following lines\\n')\n",
    "        f.write('# Line 1 - name of input file\\n')\n",
    "        f.write('# Line 2 - input origin : (su)n, (ea)rth, (mo)on, (me)rcury, (ve)nus, (ma)rs\\n')\n",
    "        f.write('# Line 3 - input axes : (eq)uatorial or (ec)liptic\\n')\n",
    "        f.write('# Line 4 - use(a)ll state vectors, a(r)andom selection, or the(f)irst n\\n')\n",
    "        f.write('# Line 5 - integer number of state vectors to be used(ignored if using all)\\n')\n",
    "        f.write('# Line 6 - log10 of the desired minimum particle mass, within[-6, 1]\\n')\n",
    "        f.write('# Line 7 - high fidelity run(y for yes)\\n')\n",
    "        f.write('# Line 8 - directory within which results will be placed\\n')\n",
    "        f.write('# Line 9 - run name(will be used to name results folder)\\n')\n",
    "        f.write('# Line 10 - output origin : (su)n, (ea)rth, (mo)on, (me)rcury, (ve)nus, (ma)rs\\n')\n",
    "        f.write('# Line 11 - output axes : (eq)uatorial, (ec)liptic, or (bo)dy - fixed\\n')\n",
    "        f.write('# Line 12 - desired output resolution in degrees(1, 2, 3, 4, or 5)\\n')\n",
    "        f.write('# Line 13 - desired output resolution in km / s(1 or 2)\\n')\n",
    "        f.write('# Line 14 - output intermediate files(y for yes)\\n')\n",
    "        f.write('# Line 15 - output igloo files(y for yes)\\n')\n",
    "        f.write('# Line 16 - output standard deviation files(y for yes)\\n')\n",
    "        f.write('#\\n')\n",
    "        f.write('#' * 80 + '\\n')\n",
    "        input_directory = str(f'C:\\\\LISA_simulation\\\\workspace\\\\MEM3_Windows_301\\\\MEM3_Windows\\\\{input_files[i]}.txt')\n",
    "        f.write(f'{input_directory}\\n')\n",
    "        f.write(f'{input_origin}\\n')\n",
    "        f.write(f'{input_axes}\\n')\n",
    "        f.write(f'{state_vector}\\n')\n",
    "        f.write(f'{number_of_sv}\\n')\n",
    "        f.write(f'{mass_min}\\n')\n",
    "        f.write(f'{option_fidelity} {fidelity}\\n')\n",
    "        f.write(f'{output_directory}\\n')\n",
    "        f.write(f'{output_file}\\n')\n",
    "        f.write(f'{output_origin}\\n')\n",
    "        f.write(f'{output_axes}\\n')\n",
    "        f.write(f'{desired_output_angres}\\n')\n",
    "        f.write(f'{desired_output_velres}\\n')\n",
    "        f.write(f'{option_intfiles} {output_intfiles}\\n')\n",
    "        f.write(f'{option_igloo} {output_igloo}\\n')\n",
    "        f.write(f'{option_std} {output_std}\\n')"
   ]
  },
  {
   "attachments": {},
   "cell_type": "markdown",
   "id": "4b0e69cb-a008-4a24-91f6-42c619680552",
   "metadata": {},
   "source": [
    "#### Run MEM"
   ]
  },
  {
   "cell_type": "code",
   "execution_count": null,
   "id": "fc519b80-d304-428a-bfe6-1d69aa144120",
   "metadata": {},
   "outputs": [],
   "source": [
    "# linux version of MEM required\n",
    "!/home/lisauser/workspace/MEM3_Windows_301/MEM3_Windows/MEM3Windows.exe"
   ]
  },
  {
   "attachments": {},
   "cell_type": "markdown",
   "id": "fe0e3058-30e7-49d3-a7c6-533d53bbefb5",
   "metadata": {},
   "source": [
    "---"
   ]
  },
  {
   "attachments": {},
   "cell_type": "markdown",
   "id": "7c9d359e-3dd8-496b-a7a5-ee41b27a6edd",
   "metadata": {},
   "source": [
    "### 6. Load results and plot the Meteoroid Flux distribution on a Mollweide projection"
   ]
  },
  {
   "cell_type": "code",
   "execution_count": null,
   "id": "fe271c6b-86f7-4503-8dee-b03d88d3ed3d",
   "metadata": {},
   "outputs": [],
   "source": [
    "%matplotlib inline\n",
    "import pandas as pd\n",
    "import matplotlib.pyplot as plt\n",
    "import matplotlib.backends.backend_pdf\n",
    "\n",
    "files               = ['LISA_sc1_04_18_2023','LISA_sc2_04_30_2023','LISA_sc3_04_30_2023']\n",
    "densities           = ['HiDensity','LoDensity']\n",
    "spacecraft_names    = ['Spacecraft 1','Spacecraft 2','Spacecraft 3']\n",
    "density_mean_values = ['3.579','2.933']\n",
    "density_std_values  = ['0.093','0.127']\n",
    "\n",
    "#pdf = matplotlib.backends.backend_pdf.PdfPages('plots_05_14_2023.pdf')\n",
    "\n",
    "for i, name in enumerate(files):\n",
    "    for j, density in enumerate(densities):\n",
    "        fig, ax = plt.subplots(figsize=(12, 8), dpi = 120, facecolor='w', subplot_kw={'projection': 'mollweide'})\n",
    "\n",
    "        # Load in density and igloo data\n",
    "        density_data    = pd.read_table(f\"/home/lisauser/workspace/MEM3_Windows_301/MEM3_Windows/{name}/HiDensity/igloo_avg.txt\",sep=\"\\s+\", header = 7)\n",
    "        igloo_data      = pd.read_table(f\"/home/lisauser/workspace/MEM3_Windows_301/MEM3_Windows/{name}/{density}/igloo_avg.txt\",sep=\"\\s+\", header = 7)\n",
    "        phi             = pd.Series(np.deg2rad(igloo_data['THETA2'][:]))\n",
    "        theta           = pd.Series(np.deg2rad(igloo_data['PHIavg'][:] - 180)) # offset by 180 deg to correct the plot\n",
    "        velocity_bins   = pd.concat([pd.Series(['THETAavg']), pd.Series(np.linspace(0.5, 78.5, 79))], ignore_index=True)\n",
    "        flux_vs_vel_matrix = np.zeros([80, 1652])\n",
    "        \n",
    "        for ii in range(len(velocity_bins)): # velocity distribution\n",
    "            for jj in range(1652): # \n",
    "                flux_vs_vel_matrix[ii][jj] = igloo_data[str(velocity_bins[ii])][jj]\n",
    "                \n",
    "        # Plot the data as a scatter plot\n",
    "        index = 23 # c=fluxM[i, j, k]     = fluxV[i, j] * dgrun[k]\n",
    "        sc = ax.scatter(theta, phi, c=flux_vs_vel_matrix[index, :], cmap='viridis', alpha=0.7, s=100, lw=0)\n",
    "        \n",
    "        # Set the axis labels and title\n",
    "        ax.set_xlabel(r'Azimuth, $\\theta$', fontsize=14, fontweight='bold')\n",
    "        ax.set_ylabel(r'Elevation, $\\phi$', fontsize=14, fontweight='bold')\n",
    "        ax.set_title(f'{density} Population, $\\mu = {density_mean_values[j]}$ and $\\sigma = {density_std_values[j]}$ [$kg/m^3$]\\nMeteoroid Flux Distribution of LISA {spacecraft_names[i]} for ~{velocity_bins[index]} km/s', fontsize=16, fontweight='bold')\n",
    "        ax.set_xticklabels(['-150°', 'starboard\\n-120°', '-90°', '-60°', '-30°', 'zenith\\n\\n\\n\\n\\n\\n\\n\\n\\n\\n\\n\\nram\\n0°', '30°', '60°', '90°', 'port\\n120°', '150°'],\n",
    "                            fontsize=12, fontweight='bold')\n",
    "        ax.set_yticklabels(['-75°', '-60°', '-45°', '-30°', '-15°', '0°', '15°', '30°', '45°', '60°', '75°'],\n",
    "                            fontsize=12, fontweight='bold')\n",
    "        ax.text(-0.35,-1.35, \"nadir\",fontsize=12, fontweight='bold')\n",
    "\n",
    "        # Add a colorbar\n",
    "        cbar = plt.colorbar(sc)\n",
    "        cbar.set_label('Flux [# of particles/m^2*yr]')\n",
    "        fig.tight_layout()\n",
    "        plt.grid(True)\n",
    "        plt.savefig(f'{name}_{density}',dpi=200)\n",
    "        plt.show()\n",
    "        "
   ]
  },
  {
   "attachments": {},
   "cell_type": "markdown",
   "id": "37354b61-2cf4-473e-82f3-0eb26cb21947",
   "metadata": {},
   "source": [
    "---"
   ]
  },
  {
   "attachments": {},
   "cell_type": "markdown",
   "id": "4bf27930-2722-4d1c-a0a9-c431669ecd26",
   "metadata": {},
   "source": [
    "### 7. Plots of the Meteoroid Flux distribution at all velocity bins"
   ]
  },
  {
   "cell_type": "code",
   "execution_count": null,
   "id": "defd0cab-6ae9-428a-95ad-3f5e2066d465",
   "metadata": {},
   "outputs": [],
   "source": [
    "%matplotlib inline\n",
    "import matplotlib.colors as colors\n",
    "\n",
    "for i, name in enumerate(files):\n",
    "    for j, density in enumerate(densities):\n",
    "        # Load in density and igloo data\n",
    "        density_data       = pd.read_table(f\"/home/lisauser/workspace/MEM3_Windows_301/MEM3_Windows/{name}/HiDensity/igloo_avg.txt\",sep=\"\\s+\", header = 7)\n",
    "        igloo_data         = pd.read_table(f\"/home/lisauser/workspace/MEM3_Windows_301/MEM3_Windows/{name}/{density}/igloo_avg.txt\",sep=\"\\s+\", header = 7)\n",
    "        phi                = pd.Series(np.deg2rad(igloo_data['THETA2'][:]))\n",
    "        theta              = pd.Series(np.deg2rad(igloo_data['PHIavg'][:] - 180)) #offset by 180 deg to correct the plot\n",
    "        velocity_bins      = pd.concat([pd.Series(['THETAavg']), pd.Series(np.linspace(0.5, 78.5, 79))], ignore_index=True)\n",
    "        flux_vs_vel_matrix = np.zeros([80, 1652])\n",
    "        \n",
    "        for ii in range(len(velocity_bins)): # velocity distribution\n",
    "            for jj in range(1652): # \n",
    "                flux_vs_vel_matrix[ii][jj] = igloo_data[str(velocity_bins[ii])][jj]\n",
    "        \n",
    "        velocity_bins      = pd.concat([pd.Series(['THETAavg']), pd.Series(np.linspace(0.5, 78.5, 79))], ignore_index=True)\n",
    "        vbins              = np.array(pd.concat([pd.Series([0]), pd.Series(np.linspace(0.5, 78.5, 79))], ignore_index=True))\n",
    "\n",
    "        size = 80\n",
    "\n",
    "        fig, axs = plt.subplots(nrows=16, ncols=5, figsize=(12, 20), dpi=120, subplot_kw={'projection': 'mollweide'}, facecolor='w')\n",
    "\n",
    "        for uu, ax in enumerate(axs.flat):\n",
    "            if uu >= igloo_wide.to_numpy().shape[1]:\n",
    "                break\n",
    "            ax.scatter(theta, phi, c=flux_vs_vel_matrix[uu, :], cmap='viridis', alpha=1, s=10, lw=0)\n",
    "            ax.set_title(f'{vbins[uu]} km/s')\n",
    "            ax.set_xticks([])\n",
    "            ax.set_yticks([])\n",
    "\n",
    "        fig.subplots_adjust(top=0.95, bottom=0.05, left=0.05, right=0.95, wspace=0.3, hspace=0.3)\n",
    "        #fig.suptitle(f'{density} Population\\nFlux Distribution of LISA science {spacecraft_names[i]} at each meteoroid velocity bin', fontsize=20)\n",
    "        plt.tight_layout()\n",
    "        #plt.savefig(f'fullfluxdist_{name}_{density}',dpi=200)\n",
    "        plt.show()\n",
    "    "
   ]
  },
  {
   "attachments": {},
   "cell_type": "markdown",
   "id": "dfdfa755-96f5-4a83-97f3-d3d48e9618e1",
   "metadata": {},
   "source": [
    "---\n",
    "\n",
    "### 8. Histogram plots of flux vs velocity"
   ]
  },
  {
   "cell_type": "code",
   "execution_count": null,
   "id": "8d17452b-de32-463e-9765-d797c1d79d9f",
   "metadata": {},
   "outputs": [],
   "source": [
    "%matplotlib widget\n",
    "import matplotlib.colors as colors\n",
    "\n",
    "for i, name in enumerate(files):\n",
    "    fig, ax = plt.subplots(figsize=(12, 8), dpi = 120, facecolor='w')\n",
    "    for j, density in enumerate(densities):\n",
    "        # Load in density and igloo data\n",
    "        density_data    = pd.read_table(f\"/home/lisauser/workspace/MEM3_Windows_301/MEM3_Windows/{name}/{density}/igloo_avg.txt\",sep=\"\\s+\", header = 7)\n",
    "        igloo_data      = pd.read_table(f\"/home/lisauser/workspace/MEM3_Windows_301/MEM3_Windows/{name}/{density}/igloo_avg.txt\",sep=\"\\s+\", header = 7)\n",
    "        phi             = pd.Series(np.deg2rad(igloo_data['THETA2'][:]))\n",
    "        theta           = pd.Series(np.deg2rad(igloo_data['PHIavg'][:] - 180)) #offset by 180 deg to correct the plot\n",
    "        velocity_bins   = pd.concat([pd.Series(['THETAavg']), pd.Series(np.linspace(0.5, 78.5, 79))], ignore_index=True)\n",
    "        \n",
    "        flux_vs_vel_matrix = np.zeros([79, 1652])\n",
    "        for ii in range(len(velocity_bins)): # velocity distribution\n",
    "            for jj in range(1652): # \n",
    "                flux_vs_vel_matrix[ii][jj] = igloo_data[str(velocity_bins[ii])][jj]\n",
    "        \n",
    "        # calculate average flux per velocity\n",
    "        avg_flux_vs_vel = np.sum(flux_vs_vel_matrix, axis=1) / flux_vs_vel_matrix.shape[0]\n",
    "           \n",
    "        # Plot 2D histogram in separate figures based on spacecraft\n",
    "        ax.plot(vbins, avg_flux_vs_vel, label=f'{density}')\n",
    "        \n",
    "    # Configure and show the figure for the current density\n",
    "    ax.set_xlabel('Meteoroid Speed [km/s]')\n",
    "    ax.set_ylabel('Average Flux [# of particles/m^2*yr]')\n",
    "    ax.set_title(f'{spacecraft_names[i]}\\nDistribution of Meteoroid Flux vs. Speed')\n",
    "    ax.legend()\n",
    "    plt.savefig(f'histograms_{name}',dpi=200)\n",
    "    plt.show()\n",
    "    #pdf.savefig(fig)\n",
    "    #plt.close(fig)  # Close the figure to free up memory"
   ]
  },
  {
   "attachments": {},
   "cell_type": "markdown",
   "id": "c458ed60-1a26-4234-acc1-5be73618341b",
   "metadata": {},
   "source": [
    "---"
   ]
  },
  {
   "attachments": {},
   "cell_type": "markdown",
   "id": "6f62a4c6-1167-44f2-abe4-a492b8d788ae",
   "metadata": {},
   "source": [
    "### 9. Plots of the momentum distribution"
   ]
  },
  {
   "attachments": {},
   "cell_type": "markdown",
   "id": "e02eb6be",
   "metadata": {},
   "source": [
    "#### Import libraries and dependencies"
   ]
  },
  {
   "cell_type": "code",
   "execution_count": null,
   "id": "be947433-8536-4b08-8e2e-edd9181df15a",
   "metadata": {},
   "outputs": [],
   "source": [
    "import numpy as np\n",
    "import matplotlib.pyplot as plt\n",
    "import pandas as pd\n",
    "\n",
    "from scipy.stats import loguniform\n",
    "from sklearn.preprocessing import normalize"
   ]
  },
  {
   "attachments": {},
   "cell_type": "markdown",
   "id": "af706da4-1839-4d47-9cac-deccd15e581c",
   "metadata": {},
   "source": [
    "#### Load constants and file names"
   ]
  },
  {
   "cell_type": "code",
   "execution_count": null,
   "id": "8ff2c2cd-6d78-41a7-b55d-235f0a9a2ba3",
   "metadata": {},
   "outputs": [],
   "source": [
    "files               = ['LISA_sc1_04_18_2023','LISA_sc2_04_30_2023','LISA_sc3_04_30_2023']\n",
    "densities           = ['HiDensity','LoDensity']\n",
    "spacecraft_names    = ['Spacecraft 1','Spacecraft 2','Spacecraft 3']\n",
    "density_mean_values = ['3.579','2.933']\n",
    "density_std_values  = ['0.093','0.127']"
   ]
  },
  {
   "attachments": {},
   "cell_type": "markdown",
   "id": "e83bbdb2-5296-48e4-a871-8baa521b93ed",
   "metadata": {},
   "source": [
    "#### Define all functions for this section"
   ]
  },
  {
   "attachments": {},
   "cell_type": "markdown",
   "id": "f7d1566a-3d58-42b9-89b3-39a310770df8",
   "metadata": {},
   "source": [
    "##### The *grunmodel* function takes in an array of masses and outputs a flux array with each element of the mass array corresponding to a flux value.<br> This function was extracted from the MEM documentation."
   ]
  },
  {
   "cell_type": "code",
   "execution_count": null,
   "id": "b661cd92-70e8-4994-be43-d866b904a131",
   "metadata": {},
   "outputs": [],
   "source": [
    "def GrunModel(m):\n",
    "    C     = np.array([2.2e3, 15, 1.3e-9, 1e11, 1e27, 1.3e-16, 1e6])\n",
    "    g     = np.array([0.306, -4.38, 2, 4, -0.36, 2, -0.85])\n",
    "\n",
    "    G = ((C[0]*(m**g[0])) + C[1])**g[1] + \\\n",
    "           C[2]*(m + C[3]*(m**g[2]) + C[4]*(m**g[3]))**g[4] + \\\n",
    "           C[5]*(m + C[6]*(m**g[5]))**g[6]\n",
    "    \n",
    "    return G"
   ]
  },
  {
   "attachments": {},
   "cell_type": "markdown",
   "id": "f77b0a07-1b0f-43da-8406-6bc4574ae4c6",
   "metadata": {},
   "source": [
    "##### This *InverseGrunModel* function is the inverse of the above function. Computed using Wolfram Mathematica."
   ]
  },
  {
   "cell_type": "code",
   "execution_count": null,
   "id": "c64e2fd4-7b76-4ff4-9706-560ef0d8f1fe",
   "metadata": {},
   "outputs": [],
   "source": [
    "def InverseGrunModel(G):\n",
    "    C     = np.array([2.2 * 10**3, 15, 1.3 * 10**-9, 10**11, 10**27, 1.3 * 10**-16, 10**6])\n",
    "    g     = np.array([0.306, -4.38, 2, 4, -0.36, 2, -0.85])\n",
    "    \n",
    "    t1 = C[0] * g[0] * g[1] * G**(-1 + g[0]) * (C[1] + C[0] * G**g[0])**(-1 + g[1])\n",
    "    t2 = C[2] * g[4] * (1 + C[3] * g[2] * G**(-1 + g[2]) + C[4] * g[3] * G**(-1 + g[3])) * (G + C[3] * G**g[2] + C[4] * G**g[3])**(-1 + g[4])\n",
    "    t3 = C[5] * g[6] * (1 + C[6] * g[5] * G**(-1 + g[5])) * (G + C[6] * G**g[5])**(-1 + g[6])\n",
    "    \n",
    "    m = t1 + t2 + t3\n",
    "    \n",
    "    return m"
   ]
  },
  {
   "attachments": {},
   "cell_type": "markdown",
   "id": "fc589a07-e44a-4fb9-ad59-b9719e152ded",
   "metadata": {},
   "source": [
    "##### This *integrate_array* function takes a given array and computes the integrated values for add up to a certain target value."
   ]
  },
  {
   "cell_type": "code",
   "execution_count": null,
   "id": "580c84e9-e132-49bb-bf28-d65bbce738e8",
   "metadata": {},
   "outputs": [],
   "source": [
    "def integrate_array(array, target_value):\n",
    "    cumulative_sum    = np.cumsum(array)\n",
    "    integrated_values = cumulative_sum[cumulative_sum <= target_value]\n",
    "    return integrated_values"
   ]
  },
  {
   "attachments": {},
   "cell_type": "markdown",
   "id": "af31e18f-895d-46b0-a76a-7f57ba979bd2",
   "metadata": {},
   "source": [
    "##### This *sort_sections* function takes in a section of an array and sorts only that section, segment size is specified as one of the arguments"
   ]
  },
  {
   "cell_type": "code",
   "execution_count": null,
   "id": "c1f15754-18f5-47eb-9d0b-f7015e27ec2b",
   "metadata": {},
   "outputs": [],
   "source": [
    "def sort_sections(array, segment_size):\n",
    "    sorted_array = array.copy()                          # Create a copy of the original array to preserve the original data\n",
    "    \n",
    "    for i in range(0, len(array), segment_size):\n",
    "        section = sorted_array[i:i+segment_size]         # Get the current section of the array\n",
    "        sorted_section = sorted(section)                 # Sort the section\n",
    "        sorted_array[i:i+segment_size] = sorted_section  # Replace the section in the sorted array\n",
    "        \n",
    "    return sorted_array"
   ]
  },
  {
   "attachments": {},
   "cell_type": "markdown",
   "id": "d45acbe5-6101-4acd-a1b4-a80bfe134706",
   "metadata": {},
   "source": [
    "##### Since the grun model takes into account limiting mass, we have to correct the data by subtracting the forward element with the present element. This *process_sections* does this as a function of the array and segment size. Note, each section is prepended with a zero to take into account the amount of elements that are in the array after it has been processed."
   ]
  },
  {
   "cell_type": "code",
   "execution_count": null,
   "id": "406659b4-86a9-4135-995c-870156edec16",
   "metadata": {},
   "outputs": [],
   "source": [
    "def process_sections(array, segment_size):\n",
    "    processed_array = []\n",
    "\n",
    "    for i in range(0, len(array), segment_size):\n",
    "        section = array[i:i+segment_size]                                       # Get the current section of the array\n",
    "        \n",
    "        # Perform the operation on the section\n",
    "        corrected_section = [section[ii] - section[ii+1] for ii in range(segment_size-1)]\n",
    "        \n",
    "        processed_section = [0] + corrected_section                             # Prepend a zero to the section\n",
    "        processed_section = processed_section/np.sum(processed_section)         # Divide by the sum\n",
    "        processed_array.extend(processed_section)                               # Append the processed section to the result\n",
    "\n",
    "    return processed_array"
   ]
  },
  {
   "cell_type": "code",
   "execution_count": null,
   "id": "2888ee2d-fb09-4fa5-82c7-7ce80a144cd5",
   "metadata": {},
   "outputs": [],
   "source": [
    "names = \"ID   I   J   PHI1   PHI2 THETA1 THETA2 PHIavg THETAavg        0.5          1.5          2.5          3.5          4.5          5.5          6.5          7.5          8.5          9.5         10.5         11.5         12.5         13.5         14.5         15.5         16.5         17.5         18.5         19.5         20.5         21.5         22.5         23.5         24.5         25.5         26.5         27.5         28.5         29.5         30.5         31.5         32.5         33.5         34.5         35.5         36.5         37.5         38.5         39.5         40.5         41.5         42.5         43.5         44.5         45.5         46.5         47.5         48.5         49.5         50.5         51.5         52.5         53.5         54.5         55.5         56.5         57.5         58.5         59.5         60.5         61.5         62.5         63.5         64.5         65.5         66.5         67.5         68.5         69.5         70.5         71.5         72.5         73.5         74.5         75.5         76.5         77.5         78.5         79.5\".split()\n",
    "igloo_data      = pd.read_table(f\"LISA_sc1_04_18_2023/HiDensity/igloo_avg.txt\",sep=\"\\s+\", comment=\"#\", names=names)\n",
    "igloo_data"
   ]
  },
  {
   "cell_type": "code",
   "execution_count": null,
   "id": "cb4aa1c0-65ea-40a2-b232-c72d15844acc",
   "metadata": {},
   "outputs": [],
   "source": [
    "mom_flux[\"mom_bin\"].to_numpy()\n",
    "np.arange(-0.795, 795.0, 39.75)"
   ]
  },
  {
   "cell_type": "code",
   "execution_count": null,
   "id": "c376d16b-5348-4d34-b297-82c13ed74913",
   "metadata": {},
   "outputs": [],
   "source": [
    "L = [str(x) for x in np.arange(0.5, 79.5, 1).tolist()]\n",
    "L[0]"
   ]
  },
  {
   "cell_type": "code",
   "execution_count": null,
   "id": "5346fb72-0451-4194-a261-089e3c30e6b0",
   "metadata": {},
   "outputs": [],
   "source": [
    "fluxV = igloo_data[L].to_numpy()\n",
    "fluxV.shape"
   ]
  },
  {
   "cell_type": "code",
   "execution_count": null,
   "id": "b3e29856-8645-43ab-a178-34a4633f608c",
   "metadata": {},
   "outputs": [],
   "source": [
    "from scipy.stats import loguniform\n",
    "dgrun = np.zeros(num_mass-1)\n",
    "\n",
    "\n",
    "# Total number of elements in mass array\n",
    "num_mass = 20\n",
    "\n",
    "# Grun model mass array sorted in increasing order \n",
    "m = np.logspace(-6, 1, num_mass)  # grams\n",
    "\n",
    "# Insert mass array into grunmodel function\n",
    "G = GrunModel(m)\n",
    "\n",
    "# Correct the Grun model matrix by subtracting the mass bins in increasing order\n",
    "for ll in range(num_mass-1):\n",
    "    dgrun[ll] = G[ll] - G[ll+1]\n",
    "    \n",
    "dgrun /= np.sum(dgrun)\n",
    "\n",
    "fluxV = igloo_data[L].to_numpy()\n",
    "\n",
    "for i in range(1652):\n",
    "    for j in range(79):\n",
    "        for k in range(num_mass-1):\n",
    "            fluxM[i, j, k]     = fluxV[i, j] * dgrun[k]\n",
    "\n",
    "igloo_long = pd.melt(igloo_data, id_vars=[\"ID\",\"I\",\"J\",\"PHI1\",\"PHI2\",\"THETA1\",\"THETA2\",\"PHIavg\",\"THETAavg\"], var_name=\"velocity\", value_name=\"flux\")\n",
    "igloo_long[\"velocity\"] = igloo_long[\"velocity\"].astype(\"float64\")\n",
    "igloo_long[\"flux\"].to_numpy()\n",
    "\n",
    "mass_df = pd.DataFrame({\"mass\": m, \"flux\": G})\n",
    "\n",
    "mom_flux = pd.merge(igloo_long, mass_df, how=\"cross\", suffixes=(\"_vel\",\"_mass\"))\n",
    "mom_flux[\"momentum\"] = mom_flux[\"velocity\"] * mom_flux[\"mass\"]\n",
    "mom_flux[\"mom_bin\"] = pd.cut(mom_flux[\"momentum\"], num_mass)\n",
    "\n",
    "momentumbins = np.arange(-0.795, 795.0, 39.75)\n",
    "\n",
    "for l in range(numbins - 1):\n",
    "    for i in range(1652):\n",
    "        for j in range(79):\n",
    "            for k in range(size_ofmassarray):\n",
    "                    if (momentumbins[l] <= momentum_mat[j, k] < momentumbins[l + 1]):\n",
    "                        # Compute corrected flux value by multiplying fractional Grun model flux with\n",
    "                        # experimental flux from MEM output file\n",
    "                        tot[a, b, l]     += fluxM[i, j, k]     \n",
    "                                \n",
    "mom_flux[\"mom_bin\"].to_numpy()\n",
    "mom_flux\n",
    "mom_sum = mom_flux.groupby([\"PHIavg\", \"THETAavg\", \"mom_bin\"])[\"flux_vel\"].sum().reset_index()\n",
    "mom_sum"
   ]
  },
  {
   "cell_type": "code",
   "execution_count": null,
   "id": "9e684caf-a91b-41d1-8616-d5c9a81e72af",
   "metadata": {},
   "outputs": [],
   "source": [
    "[m.mid for m in mom_flux[\"mom_bin\"]]"
   ]
  },
  {
   "attachments": {},
   "cell_type": "markdown",
   "id": "31ec5169",
   "metadata": {},
   "source": [
    "##### Get the header of the file, then read data ignoring comment lines"
   ]
  },
  {
   "cell_type": "code",
   "execution_count": null,
   "id": "7a400ba0",
   "metadata": {},
   "outputs": [],
   "source": [
    "!head -n 8 LISA_sc1_04_18_2023/HiDensity/igloo_avg.txt | tail -n 1"
   ]
  },
  {
   "cell_type": "code",
   "execution_count": null,
   "id": "7650b4ef",
   "metadata": {},
   "outputs": [],
   "source": [
    "# Create a string that contains all the headers that define the\n",
    "# variables in the flux_vs_vel_matrix\n",
    "names_igloo         = \"ID   I   J   PHI1   PHI2 THETA1 THETA2 PHIavg THETAavg        0.5          1.5          2.5          3.5          4.5          5.5          6.5          7.5          8.5          9.5         10.5         11.5         12.5         13.5         14.5         15.5         16.5         17.5         18.5         19.5         20.5         21.5         22.5         23.5         24.5         25.5         26.5         27.5         28.5         29.5         30.5         31.5         32.5         33.5         34.5         35.5         36.5         37.5         38.5         39.5         40.5         41.5         42.5         43.5         44.5         45.5         46.5         47.5         48.5         49.5         50.5         51.5         52.5         53.5         54.5         55.5         56.5         57.5         58.5         59.5         60.5         61.5         62.5         63.5         64.5         65.5         66.5         67.5         68.5         69.5         70.5         71.5         72.5         73.5         74.5         75.5         76.5         77.5         78.5         79.5\".split()\n",
    "names_density       = \"rho_min rho_max fraction\"\n",
    "files               = ['LISA_sc1_04_18_2023','LISA_sc2_04_30_2023','LISA_sc3_04_30_2023']\n",
    "densities           = ['HiDensity','LoDensity']\n",
    "spacecraft_names    = ['Spacecraft 1','Spacecraft 2','Spacecraft 3']\n",
    "density_mean_values = ['3.579','2.933']\n",
    "density_std_values  = ['0.093','0.127']\n",
    "\n",
    "igloo_data     = {}\n",
    "igloo_data_std = {}\n",
    "density_data   = {}\n",
    "\n",
    "# Use the string that was created previously to load in the data\n",
    "# as a pandas dataframe and split the data based on header name\n",
    "for i, file in enumerate(files):\n",
    "    for j, density in enumerate(densities):\n",
    "        df = pd.read_table(f\"{file}/{density}/igloo_avg.txt\", sep=\"\\s+\", comment=\"#\", names=names_igloo)\n",
    "        igloo_data.setdefault(i, {})[j] = df\n",
    "        \n",
    "        df_std = pd.read_table(f\"{file}/{density}/igloo_std.txt\", sep=\"\\s+\", comment=\"#\", names=names_igloo)\n",
    "        igloo_data_std.setdefault(i, {})[j] = df_std\n",
    "        \n",
    "        df_density = pd.read_table(f\"{file}/{density.lower()}.txt\", sep=\"\\s+\", usecols=range(0,4))\n",
    "        df_density = df_density.shift(axis=1)\n",
    "        df_density = df_density.iloc[1:]\n",
    "        df_density = df_density.drop(df_density.columns[0], axis=1)\n",
    "        df_density_avg = (np.array(df_density['rho_min']).astype(float) + np.array(df_density['rho_max']).astype(float))*.5\n",
    "        df_density['rho_avg'] = df_density_avg            \n",
    "        density_data.setdefault(i, {})[j] = df_density"
   ]
  },
  {
   "cell_type": "code",
   "execution_count": null,
   "id": "bee63812-07e7-42e4-a78d-913351c25f5d",
   "metadata": {},
   "outputs": [],
   "source": [
    "LISA_sc1_HiDensity = igloo_data[0][0]\n",
    "LISA_sc1_LoDensity = igloo_data[0][1]\n",
    "LISA_sc2_HiDensity = igloo_data[1][0]\n",
    "LISA_sc2_LoDensity = igloo_data[1][1]\n",
    "LISA_sc3_HiDensity = igloo_data[2][0]\n",
    "LISA_sc3_LoDensity = igloo_data[2][1]\n",
    "\n",
    "LISA_sc1_HiDensity_std = igloo_data_std[0][0]\n",
    "LISA_sc1_LoDensity_std = igloo_data_std[0][1]\n",
    "LISA_sc2_HiDensity_std = igloo_data_std[1][0]\n",
    "LISA_sc2_LoDensity_std = igloo_data_std[1][1]\n",
    "LISA_sc3_HiDensity_std = igloo_data_std[2][0]\n",
    "LISA_sc3_LoDensity_std = igloo_data_std[2][1]\n",
    "\n",
    "LISA_sc1_HiDensity_den = density_data[0][0]\n",
    "LISA_sc1_LoDensity_den = density_data[0][1]\n",
    "LISA_sc2_HiDensity_den = density_data[1][0]\n",
    "LISA_sc2_LoDensity_den = density_data[1][1]\n",
    "LISA_sc3_HiDensity_den = density_data[2][0]\n",
    "LISA_sc3_LoDensity_den = density_data[2][1]"
   ]
  },
  {
   "cell_type": "code",
   "execution_count": null,
   "id": "23bc0fda-147c-4455-a948-75f1a14ceaab",
   "metadata": {},
   "outputs": [],
   "source": [
    "df"
   ]
  },
  {
   "cell_type": "code",
   "execution_count": null,
   "id": "2b513d91-4b1b-4616-95b7-18fd94dcad8c",
   "metadata": {},
   "outputs": [],
   "source": [
    "density_data[0][0]['fraction'].astype(\"float\").values\n",
    "density_data[0][0]['rho_avg'].astype(\"float\").values"
   ]
  },
  {
   "cell_type": "code",
   "execution_count": null,
   "id": "67aee0c6",
   "metadata": {},
   "outputs": [],
   "source": [
    "igloo_data[2][1]['39.5'].max()"
   ]
  },
  {
   "cell_type": "code",
   "execution_count": null,
   "id": "3e0b4903-ec40-47cb-bfba-f9a4dd7a5aa3",
   "metadata": {},
   "outputs": [],
   "source": [
    "momentumbins = np.concatenate((np.logspace(-6,-5, numbins)[:-1], np.logspace(-5, 3, numbins)))\n",
    "momentumbins"
   ]
  },
  {
   "cell_type": "code",
   "execution_count": null,
   "id": "d7464f5a-8f3f-4943-98e7-163af8a1aa30",
   "metadata": {},
   "outputs": [],
   "source": [
    "fluxM     = np.zeros([1652, 80, size_ofmassarray-1])\n",
    "fluxM[:, :, :]     = [[[fluxV[i, j] * dgrun[k] for k in range(size_ofmassarray-1)] for j in range(80)] for i in range(1652)]"
   ]
  },
  {
   "cell_type": "code",
   "execution_count": null,
   "id": "54b67e3b-a62e-407c-b71f-fc439d11202f",
   "metadata": {},
   "outputs": [],
   "source": [
    "vbins = np.linspace(0.5, 78.5, 79)\n",
    "vbins.shape"
   ]
  },
  {
   "cell_type": "code",
   "execution_count": null,
   "id": "af861617-f08c-4519-99a8-3ae6bac50509",
   "metadata": {
    "tags": []
   },
   "outputs": [],
   "source": [
    "%matplotlib inline\n",
    "fig, ax = plt.subplots(figsize=(12, 8), dpi = 120, facecolor='w')\n",
    "\n",
    "colors             = ['red', 'blue', 'green', 'orange', 'purple', 'brown']  \n",
    "symbols            = ['o', 's', 'D', '^', 'v', 'P']\n",
    "velocity_bins      = pd.concat([pd.Series(['THETAavg']), pd.Series(np.linspace(0.5, 78.5, 79))], ignore_index=True)\n",
    "vbins              = np.linspace(0.5, 78.5, 79)\n",
    "densities          = ['HiDensity', 'LoDensity']\n",
    "spacecraft         = ['SC1', 'SC2', 'SC3']\n",
    "\n",
    "# Total number of elements in mass array\n",
    "size_ofmassarray = 10\n",
    "\n",
    "# Grun model mass array sorted in increasing order \n",
    "bmass = np.logspace(-6, 1, size_ofmassarray)  # grams\n",
    "     \n",
    "# Insert mass array into grunmodel function\n",
    "G = GrunModel(bmass) * (365.25*24*3600) # need to put the grun model into yrs to match output of the MEM\n",
    "\n",
    "# Correct the Grun model matrix by subtracting the mass bins in increasing order\n",
    "dgrun = np.zeros(size_ofmassarray-1)\n",
    "for ll in range(size_ofmassarray-1):\n",
    "    dgrun[ll] = G[ll] - G[ll+1]   # check\n",
    "    \n",
    "dgrun /= np.sum(dgrun)\n",
    "    \n",
    "# Initialize total number of desired bins \n",
    "numbins = 10\n",
    "\n",
    "# Logspace momentum bins \n",
    "momentumbins = np.logspace(-6, 3, numbins)\n",
    "\n",
    "# Matrix multiply vertical average velocity bin array with horizontal Grun model mass array: vel (rows) vs. mass (columns)\n",
    "momentum_mat = vbins.reshape(-1,1)@bmass.reshape(1,-1)\n",
    "\n",
    "# Initialiaze flux partitioned by average velocity values\n",
    "fluxV     = np.zeros([1652, 79])\n",
    "#fluxV_std = np.zeros([1652, 80])\n",
    "\n",
    "# Initialize flux dependent on velocity matrix with extra dimension the size of the mass array \n",
    "fluxM     = np.zeros([1652, 79, size_ofmassarray])\n",
    "#fluxM_std = np.zeros([1652, 80, size_ofmassarray])\n",
    "\n",
    "# Initialize the fractional flux from the MEM output files\n",
    "#fluxRho   = np.zeros([3, 2, len(density_data[0][0]['fraction'].astype(\"float\").values)])\n",
    "\n",
    "# intialize momentum dependent flux values matrix\n",
    "tot     = np.zeros([3, 2, len(momentumbins)])\n",
    "#tot_std = np.zeros([3, 2, len(momentumbins)])\n",
    "\n",
    "f = 0\n",
    "\n",
    "# This for loop iterates through LISA spacecraft files\n",
    "for a, sc in enumerate(spacecraft):\n",
    "    \n",
    "    # This for loop iterates through the density populations of the meteoroids\n",
    "    for b, density in enumerate(densities):\n",
    "\n",
    "        # Use a double for loop statement to insert values from MEM output files\n",
    "        # phi, theta position on spherical projection (sky position)\n",
    "        for jj in range(79): # velocity\n",
    "            fluxV[:, jj]     = [igloo_data[a][b][str(velocity_bins[jj])][ii] for ii in range(1652)]\n",
    "            #fluxV_std[:, jj] = [igloo_data_std[a][b][str(velocity_bins[jj])][ii] for ii in range(1652)]\n",
    "                \n",
    "        # This triple for loop is to iterate mass dependent flux values into 3-dimensional matrix \n",
    "        for j in range(79):\n",
    "            for k in range(size_ofmassarray-1):\n",
    "                fluxM[:, j, k]     = [fluxV[i, j] * dgrun[k] for i in range(1652)]\n",
    "                #fluxM_std[:, j, k] = [fluxV_std[i, j] * dgrun[k] for i in range(1652)]\n",
    "        \n",
    "        # This quad for loop attempts to combine the Grun mass model flux with experimental flux from MEM output \n",
    "        # files to iterate through a momentum dependent flux matrix. Insert flux values into respective momentum\n",
    "        # bins.\n",
    "        for l in range(numbins - 1):\n",
    "            for i in range(1652):\n",
    "                for j in range(79):\n",
    "                    for k in range(size_ofmassarray):\n",
    "                        if l == 0:\n",
    "                             if (momentum_mat[j, k] <= momentumbins[l]):\n",
    "                                tot[a, b, l]     += fluxM[i, j, k]     \n",
    "                                #tot_std[a, b, l] += fluxM_std[i, j, k]\n",
    "                        elif l == (numbins - 1):\n",
    "                             if (momentumbins[l] <= momentum_mat[j, k]):\n",
    "                                tot[a, b, l]     += fluxM[i, j, k]     \n",
    "                                #tot_std[a, b, l] += fluxM_std[i, j, k]\n",
    "                        else: \n",
    "                            if (momentumbins[l] <= momentum_mat[j, k] < momentumbins[l + 1]):\n",
    "                            # Compute corrected flux value by multiplying fractional Grun model flux with\n",
    "                            # experimental flux from MEM output file\n",
    "                                tot[a, b, l]     += fluxM[i, j, k]     \n",
    "                                #tot_std[a, b, l] += fluxM_std[i, j, k] \n",
    "                                \n",
    "        #print(tot[a,b,:])\n",
    "        # Plot the flux values against the momentum bins. \n",
    "        ax.loglog(momentumbins * 1e6, tot[a, b, :], color=colors[f], marker=symbols[f],\\\n",
    "                  markersize = 3, label=f'{sc}_{density}', linewidth = 1)\n",
    "        f += 1\n",
    "        #plt.errorbar(momentumbins, tot[a, b, :], yerr=tot_std[a, b, :] /(365.25*24*3600) ,color=colors[f], marker=symbols[f])  \n",
    "        #ax.set_title(f'Density: {density}, Spacecraft: {sc}')\n",
    "\n",
    "        \n",
    "        #ax.set_xlim([10**-5, 10**4])\n",
    "        #ax.set_ylim([10**-5, 10**8])\n",
    "        \n",
    "plt.xlim([1e-1, 1e8])\n",
    "plt.ylim([1e-8, 1e6])\n",
    "plt.ylabel(r'Flux $[numparticles*yr^{-1}m^{-2}]$')\n",
    "plt.xlabel(r'Momentum, $[\\mu N s]$') # newton seconds  \n",
    "plt.legend()\n",
    "plt.grid(True)\n",
    "#plt.savefig('momentum distribution.png',dpi=200)\n",
    "plt.show()"
   ]
  },
  {
   "cell_type": "code",
   "execution_count": null,
   "id": "93f2623a-2f52-4730-bb6a-65a90a9e6c6d",
   "metadata": {},
   "outputs": [],
   "source": [
    "tot"
   ]
  },
  {
   "cell_type": "code",
   "execution_count": null,
   "id": "24f882e7-d256-43c6-8232-42e6a686d4da",
   "metadata": {},
   "outputs": [],
   "source": [
    "numbins = 50 \n",
    "vbins = 80\n",
    "momentumbins = np.concatenate((np.logspace(-6,-5, numbins)[:-1], np.logspace(-5, 3, numbins)))\n",
    "print(tot[0, 0, :])\n",
    "print(tot[0, 1, :])\n",
    "print(tot[1, 0, :])\n",
    "print(tot[1, 1, :])\n",
    "print(tot[2, 0, :])\n",
    "print(tot[2, 1, :])"
   ]
  },
  {
   "cell_type": "code",
   "execution_count": null,
   "id": "137e2d0c-ef38-4d81-82cf-fbcf9d203829",
   "metadata": {},
   "outputs": [],
   "source": [
    "%matplotlib inline\n",
    "fig, ax = plt.subplots(figsize=(12, 10), facecolor='w', dpi=120)\n",
    "colors             = ['red', 'blue', 'green', 'orange', 'purple', 'brown']  \n",
    "symbols            = ['o', 's', 'D', '^', 'v', 'P']                    \n",
    "densities          = ['HiDensity', 'LoDensity']\n",
    "spacecraft         = ['SC1', 'SC2', 'SC3']\n",
    "f = 0\n",
    "# This for loop iterates through LISA spacecraft files\n",
    "for a, sc in enumerate(spacecraft):\n",
    "    # This for loop iterates through the density populations of the meteoroids\n",
    "    for b, density in enumerate(densities):\n",
    "        ax.scatter(momentumbins * 1e6, tot[a, b, :], color=colors[f],\\\n",
    "                     marker=symbols[f], label=f'{sc}_{density}')\n",
    "        #ax[a].errorbar(momentumbins, tot[a, b, :] / (365.25*24*3600), yerr = tot_std[a, b, :] /(365.25*24*3600), color=colors[b])\n",
    "        ax.set_ylabel(fr'Flux, $[num*yr^{-1}m^{-2}]$')\n",
    "        ax.set_xlabel(r'Momentum, $[\\mu N s]$') # newton seconds \n",
    "        ax.legend()\n",
    "        #ax.lines[f].set_label(f'{sc}_{density}')\n",
    "        ax.set_yscale('log')\n",
    "        ax.set_xscale('log')\n",
    "        ax.set_xlim([1e-1, 1e2])\n",
    "        ax.set_ylim([1e-8, 1e6])\n",
    "        ax.grid(True)\n",
    "        f += 1\n",
    "\n",
    "plt.suptitle('Momentum dependent flux distribution')\n",
    "plt.tight_layout()\n",
    "#plt.savefig('Momentum_dependent_flux_distribution.png', dpi=200)\n",
    "plt.show()"
   ]
  },
  {
   "cell_type": "code",
   "execution_count": null,
   "id": "a7054b4e-fde3-4457-835d-9b51051f0bbf",
   "metadata": {},
   "outputs": [],
   "source": [
    "%matplotlib inline\n",
    "fig, ax = plt.subplots(figsize=(12, 8), dpi=120)\n",
    "\n",
    "plt.loglog(momentumbins*1000000, np.abs(tot), 'bo')\n",
    "ax.set_ylabel(r'Flux $[yr^{-1}m^{-2}]$')\n",
    "ax.set_xlabel(r'Momentum, P $[\\mu Ns]$')\n",
    "ax.set_xlim([10**2, 10**5])\n",
    "ax.set_ylim([10**-5, 10**2])\n",
    "plt.grid()\n",
    "plt.show()"
   ]
  },
  {
   "cell_type": "code",
   "execution_count": null,
   "id": "7ffae18d-9d03-47df-91a3-c776bf7737c6",
   "metadata": {},
   "outputs": [],
   "source": [
    "momentum_mat[:, 15]"
   ]
  },
  {
   "cell_type": "code",
   "execution_count": null,
   "id": "15637e73-77dd-4bb9-8a87-4daabcb4cb89",
   "metadata": {},
   "outputs": [],
   "source": [
    "vbins.reshape(-1,1)"
   ]
  },
  {
   "cell_type": "code",
   "execution_count": null,
   "id": "9b8afd12-d2ed-4a73-adb2-ae64d1991c4b",
   "metadata": {},
   "outputs": [],
   "source": [
    "size = 20\n",
    "m    = np.logspace(-6, -3, size)"
   ]
  },
  {
   "attachments": {},
   "cell_type": "markdown",
   "id": "58aa5030",
   "metadata": {},
   "source": [
    "##### Reshape table to make velocity a column using melt. Velocity comes as an object, so cast it to a float instead."
   ]
  },
  {
   "cell_type": "code",
   "execution_count": null,
   "id": "c611e7a1-63d3-43aa-b5a9-7b571602d2ea",
   "metadata": {},
   "outputs": [],
   "source": [
    "import pandas as pd\n",
    "import numpy as np\n",
    "# Create a string that contains all the headers that define the\n",
    "# variables in the flux_vs_vel_matrix\n",
    "names_igloo         = \"ID   I   J   PHI1   PHI2 THETA1 THETA2 PHIavg THETAavg        0.5          1.5          2.5          3.5          4.5          5.5          6.5          7.5          8.5          9.5         10.5         11.5         12.5         13.5         14.5         15.5         16.5         17.5         18.5         19.5         20.5         21.5         22.5         23.5         24.5         25.5         26.5         27.5         28.5         29.5         30.5         31.5         32.5         33.5         34.5         35.5         36.5         37.5         38.5         39.5         40.5         41.5         42.5         43.5         44.5         45.5         46.5         47.5         48.5         49.5         50.5         51.5         52.5         53.5         54.5         55.5         56.5         57.5         58.5         59.5         60.5         61.5         62.5         63.5         64.5         65.5         66.5         67.5         68.5         69.5         70.5         71.5         72.5         73.5         74.5         75.5         76.5         77.5         78.5         79.5\".split()\n",
    "names_density       = \"rho_min rho_max fraction\"\n",
    "files               = ['LISA_sc1_04_18_2023','LISA_sc2_04_30_2023','LISA_sc3_04_30_2023']\n",
    "densities           = ['HiDensity','LoDensity']\n",
    "spacecraft_names    = ['Spacecraft 1','Spacecraft 2','Spacecraft 3']\n",
    "density_mean_values = ['3.579','2.933']\n",
    "density_std_values  = ['0.093','0.127']\n",
    "vbins              = np.array(pd.concat([pd.Series([0]), pd.Series(np.linspace(0.5, 78.5, 79))], ignore_index=True))\n",
    "\n",
    "igloo_data     = {}\n",
    "igloo_data_std = {}\n",
    "density_data   = {}\n",
    "\n",
    "# Use the string that was created previously to load in the data\n",
    "# as a pandas dataframe and split the data based on header name\n",
    "for i, file in enumerate(files):\n",
    "    for j, density in enumerate(densities):\n",
    "        df = pd.read_table(f\"{file}/{density}/igloo_avg.txt\", sep=\"\\s+\", comment=\"#\", names=names_igloo)\n",
    "        igloo_data.setdefault(i, {})[j] = df\n",
    "        \n",
    "        df_std = pd.read_table(f\"{file}/{density}/igloo_std.txt\", sep=\"\\s+\", comment=\"#\", names=names_igloo)\n",
    "        igloo_data_std.setdefault(i, {})[j] = df_std\n",
    "        \n",
    "        df_density = pd.read_table(f\"{file}/{density.lower()}.txt\", sep=\"\\s+\", usecols=range(0,4))\n",
    "        df_density = df_density.shift(axis=1)\n",
    "        df_density = df_density.iloc[1:]\n",
    "        df_density = df_density.drop(df_density.columns[0], axis=1)\n",
    "        df_density_avg = (np.array(df_density['rho_min']).astype(float) + np.array(df_density['rho_max']).astype(float))*.5\n",
    "        df_density['rho_avg'] = df_density_avg            \n",
    "        density_data.setdefault(i, {})[j] = df_density"
   ]
  },
  {
   "cell_type": "code",
   "execution_count": null,
   "id": "d5e44562-3770-4f5a-a6ab-dfc5e93fd266",
   "metadata": {},
   "outputs": [],
   "source": [
    "LISA_sc1_HiDensity = igloo_data[0][0]\n",
    "LISA_sc1_LoDensity = igloo_data[0][1]\n",
    "LISA_sc2_HiDensity = igloo_data[1][0]\n",
    "LISA_sc2_LoDensity = igloo_data[1][1]\n",
    "LISA_sc3_HiDensity = igloo_data[2][0]\n",
    "LISA_sc3_LoDensity = igloo_data[2][1]\n",
    "\n",
    "LISA_sc1_HiDensity_std = igloo_data_std[0][0]\n",
    "LISA_sc1_LoDensity_std = igloo_data_std[0][1]\n",
    "LISA_sc2_HiDensity_std = igloo_data_std[1][0]\n",
    "LISA_sc2_LoDensity_std = igloo_data_std[1][1]\n",
    "LISA_sc3_HiDensity_std = igloo_data_std[2][0]\n",
    "LISA_sc3_LoDensity_std = igloo_data_std[2][1]\n",
    "\n",
    "LISA_sc1_HiDensity_den = density_data[0][0]\n",
    "LISA_sc1_LoDensity_den = density_data[0][1]\n",
    "LISA_sc2_HiDensity_den = density_data[1][0]\n",
    "LISA_sc2_LoDensity_den = density_data[1][1]\n",
    "LISA_sc3_HiDensity_den = density_data[2][0]\n",
    "LISA_sc3_LoDensity_den = density_data[2][1]"
   ]
  },
  {
   "cell_type": "code",
   "execution_count": null,
   "id": "ebb77db1-a571-4680-88fe-0b18be58d898",
   "metadata": {},
   "outputs": [],
   "source": [
    "# Turn igloo data into long format, so we basically slice 1652 elements at a time and\n",
    "# attach corresponding velocity in a seperate column, this is why we see the same velocity\n",
    "# value as the matrix extends downward\n",
    "igloo_long             = pd.melt(LISA_sc1_HiDensity, id_vars=[\"ID\",\"I\",\"J\",\"PHI1\",\"PHI2\",\"THETA1\",\"THETA2\",\"PHIavg\",\"THETAavg\"], var_name=\"velocity\", value_name=\"flux\")\n",
    "igloo_long['mass']     = np.tile(np.logspace( -6, 1, 1652), 80)\n",
    "igloo_long[\"velocity\"] = igloo_long[\"velocity\"].astype(\"float64\")\n",
    "mommatrix              = vbins.reshape(-1,1)@np.logspace( -6, 1, 1652).reshape(1,-1)\n",
    "igloo_long"
   ]
  },
  {
   "cell_type": "code",
   "execution_count": null,
   "id": "f4e0325f-f224-4c3c-8b70-0fd932c979ab",
   "metadata": {},
   "outputs": [],
   "source": [
    "igloo_long[\"grunmodel_flux\"] = GrunModel(igloo_long[\"mass\"].values) * (365.25*24*3600)\n",
    "igloo_long"
   ]
  },
  {
   "cell_type": "code",
   "execution_count": null,
   "id": "4b8e5c22-350d-4627-972f-b710456eba80",
   "metadata": {},
   "outputs": [],
   "source": [
    "# Correct the grun value model to include only the value of the flux\n",
    "# that contains the bins of the masses delineated by 'm'\n",
    "igloo_long[\"corrected_grunmodel_flux\"] = process_sections(igloo_long[\"grunmodel_flux\"].values, 1652)\n",
    "igloo_long"
   ]
  },
  {
   "cell_type": "code",
   "execution_count": null,
   "id": "47ddabba-ee40-4351-b252-8cb7f58d109d",
   "metadata": {},
   "outputs": [],
   "source": [
    "igloo_long[\"real_flux\"] = igloo_long[\"corrected_grunmodel_flux\"]*(igloo_long[\"flux\"]) # introduce an offset of 1?\n",
    "igloo_long[\"real_flux\"].to_numpy()[0:1000]\n",
    "#igloo_long"
   ]
  },
  {
   "cell_type": "code",
   "execution_count": null,
   "id": "4957c89c-24d4-4767-8eb7-cb15b52f2c00",
   "metadata": {},
   "outputs": [],
   "source": [
    "igloo_long[\"mass_flux\"] = igloo_long[\"real_flux\"] * igloo_long[\"mass\"]\n",
    "igloo_long"
   ]
  },
  {
   "cell_type": "code",
   "execution_count": null,
   "id": "7896e6f0-3b1b-4809-9dbc-24e4d92fbc9f",
   "metadata": {},
   "outputs": [],
   "source": [
    "igloo_long[\"momentum\"] = igloo_long[\"velocity\"] * igloo_long[\"mass\"]\n",
    "igloo_long[\"momentum\"] = round(igloo_long[\"momentum\"], 2)\n",
    "igloo_long"
   ]
  },
  {
   "cell_type": "code",
   "execution_count": null,
   "id": "f4d3634f-e97f-49d7-9b24-3e28b8e68215",
   "metadata": {},
   "outputs": [],
   "source": [
    "igloo_grouped = igloo_long.groupby([\"ID\", \"I\", \"J\", \"PHI1\", \"PHI2\", \"THETA1\", \"THETA2\", \"PHIavg\", \"THETAavg\", \"momentum\"])[\"real_flux\"].sum().reset_index()\n",
    "igloo_grouped"
   ]
  },
  {
   "cell_type": "code",
   "execution_count": null,
   "id": "6023b886-bb64-4f5a-a964-3b22bb5994f8",
   "metadata": {},
   "outputs": [],
   "source": [
    "igloo_wide = igloo_grouped.pivot(index=[\"ID\", \"I\", \"J\", \"PHI1\", \"PHI2\", \"THETA1\", \"THETA2\", \"PHIavg\", \"THETAavg\"], columns=\"momentum\", values=\"real_flux\").reset_index()\n",
    "igloo_wide = igloo_wide.fillna(0)\n",
    "igloo_wide"
   ]
  },
  {
   "cell_type": "code",
   "execution_count": null,
   "id": "628bd684-37ab-4388-96c7-b14827e002f4",
   "metadata": {},
   "outputs": [],
   "source": [
    "igloo_wide[columnname][0:500]\n",
    "total_mom"
   ]
  },
  {
   "cell_type": "code",
   "execution_count": null,
   "id": "6d788268-e5c8-4481-9ce3-987f8b3bab5a",
   "metadata": {},
   "outputs": [],
   "source": [
    "columns   = igloo_wide.columns[9:]\n",
    "mombins   = columns.astype(\"float64\").values\n",
    "total_mom = np.zeros(len(mombins))\n",
    "for u in range(len(mombins)-1):\n",
    "    for a, columnname in enumerate(columns):\n",
    "        for i in range(1652):\n",
    "                for j in range(79):\n",
    "                    for k in range(1652):\n",
    "                        if u == 0:\n",
    "                            if (mommatrix[j, k] <= mombins[u]):\n",
    "                                total_mom[u] += igloo_wide[columnname][i]\n",
    "                        elif u == (len(mombins) - 1):\n",
    "                            if (mombins[u] <= mommatrix[j, k]):\n",
    "                                total_mom[u] += igloo_wide[columnname][i]     \n",
    "                        else: \n",
    "                            if (mombins[u] <= mommatrix[j, k] < mombins[u + 1]):\n",
    "                                total_mom[u] += igloo_wide[columnname][i]     "
   ]
  },
  {
   "attachments": {},
   "cell_type": "markdown",
   "id": "86c126c8-ea17-4de1-8445-b983be96569b",
   "metadata": {},
   "source": [
    "---\n",
    "\n",
    "#### Experimental cells"
   ]
  },
  {
   "cell_type": "code",
   "execution_count": null,
   "id": "932c6f63-f2ee-489d-81c9-bd1f39b76e37",
   "metadata": {},
   "outputs": [],
   "source": [
    "columns = igloo_wide.columns[9:]"
   ]
  },
  {
   "cell_type": "code",
   "execution_count": null,
   "id": "0f74fda1-e407-4761-8c2d-d2f9ecf5e3f6",
   "metadata": {},
   "outputs": [],
   "source": [
    "igloo_long_again"
   ]
  },
  {
   "cell_type": "code",
   "execution_count": null,
   "id": "79c416ab",
   "metadata": {},
   "outputs": [],
   "source": [
    "# Create a data frame that includes the mass generated and the associated flux\n",
    "# This flux is corrected and scaled \n",
    "mass_df = pd.DataFrame({\"mass\": igloo_long[\"mass\"].to_numpy(), \"flux\": igloo_long[\"real_flux\"].to_numpy()})"
   ]
  },
  {
   "attachments": {},
   "cell_type": "markdown",
   "id": "6e457825",
   "metadata": {},
   "source": [
    "##### Use a \"cross\" merge to combine the velocity/mass tables, then calc momentum"
   ]
  },
  {
   "cell_type": "code",
   "execution_count": null,
   "id": "e87c0cb3",
   "metadata": {},
   "outputs": [],
   "source": [
    "mom_flux = pd.merge(igloo_long, mass_df, how=\"cross\", suffixes=(\"_vel\",\"_mass\"))\n",
    "mom_flux[\"momentum1\"]  = mom_flux[\"velocity\"] * mom_flux[\"mass\"]\n",
    "mom_flux[\"mass_flux\"]  = mom_flux[\"real_flux\"] * mom_flux[\"mass\"]"
   ]
  },
  {
   "cell_type": "code",
   "execution_count": null,
   "id": "bb9d79d5",
   "metadata": {},
   "outputs": [],
   "source": [
    "mom_flux"
   ]
  },
  {
   "cell_type": "code",
   "execution_count": null,
   "id": "2bb6ee2a-bf04-46fd-a9b0-429d8f80a167",
   "metadata": {},
   "outputs": [],
   "source": [
    "# Pivot the momentum matrix\n",
    "wide_mom_flux = mom_flux.pivot_table(index=[\"ID\", \"I\", \"J\", \"PHI1\", \"PHI2\", \"THETA1\", \"THETA2\", \"PHIavg\", \"THETAavg\"],\n",
    "                                     columns=\"momentum\", values=\"real_flux\", fill_value=0)\n",
    "\n",
    "# Reset the index to make the columns regular columns instead of index levels\n",
    "wide_mom_flux = wide_mom_flux.reset_index()"
   ]
  },
  {
   "cell_type": "code",
   "execution_count": null,
   "id": "efa16cd5-b2c3-4bb4-a158-7193b2360ce5",
   "metadata": {},
   "outputs": [],
   "source": [
    "wide_mom_flux"
   ]
  },
  {
   "attachments": {},
   "cell_type": "markdown",
   "id": "650cdabf",
   "metadata": {},
   "source": [
    "##### TODO: Mass flux needs to be adjusted for the binning we discussed -- Do this before the merge. Also need to normalize flux\n",
    "\n",
    "---"
   ]
  },
  {
   "cell_type": "code",
   "execution_count": null,
   "id": "2de563a4-6c78-4d02-b269-fbc0e8db37f1",
   "metadata": {},
   "outputs": [],
   "source": [
    "%matplotlib inline\n",
    "fig, ax = plt.subplots(figsize=(12, 8), dpi = 120, facecolor='w')\n",
    "\n",
    "vbins              = np.linspace(0.5, 78.5, 79)\n",
    "size_ofmassarray = 10\n",
    "bmass = np.logspace(-6, 1, size_ofmassarray)  # grams\n",
    "G = GrunModel(bmass) * (365.25*24*3600) \n",
    "\n",
    "dgrun = np.zeros(size_ofmassarray-1)\n",
    "for ll in range(size_ofmassarray-1):\n",
    "    dgrun[ll] = G[ll] - G[ll+1]   # check\n",
    "    \n",
    "dgrun /= np.sum(dgrun)\n",
    "    \n",
    "numbins = 10\n",
    "momentumbins = np.logspace(-6, 3, numbins)\n",
    "momentum_mat = vbins.reshape(-1,1)@bmass.reshape(1,-1)\n",
    "fluxV     = np.zeros([1652, 79])\n",
    "fluxM     = np.zeros([1652, 79, size_ofmassarray])\n",
    "tot       = np.zeros([len(momentumbins)])\n",
    "\n",
    "for ii in range(1652):\n",
    "    for jj in range(79): # velocity\n",
    "        fluxV[:, jj]     = igloo_data[0][0][str(velocity_bins[jj])][ii] # issue when loading the data?\n",
    "        \n",
    "for i in range(1652):\n",
    "    for j in range(79):\n",
    "        for k in range(size_ofmassarray-1):\n",
    "            fluxM[:, j, k]     = fluxV[i, j] * dgrun[k]\n",
    "            \n",
    "for l in range(numbins - 1):\n",
    "    for i in range(1652):\n",
    "        for j in range(79):\n",
    "            for k in range(size_ofmassarray):\n",
    "                if l == 0:\n",
    "                     if (momentum_mat[j, k] <= momentumbins[l]):\n",
    "                        tot[l]     += fluxM[i, j, k]     \n",
    "                        \n",
    "                elif l == (numbins - 1):\n",
    "                     if (momentumbins[l] <= momentum_mat[j, k]):\n",
    "                        tot[l]     += fluxM[i, j, k]     \n",
    "                        \n",
    "                else: \n",
    "                    if (momentumbins[l] <= momentum_mat[j, k] < momentumbins[l + 1]):\n",
    "                        tot[l]     += fluxM[i, j, k]     \n",
    "\n",
    "ax.loglog(momentumbins * 1e6, tot, linewidth = 1)\n",
    "        \n",
    "plt.xlim([1e-1, 1e8])\n",
    "plt.ylim([1e-8, 1e6])\n",
    "plt.ylabel(r'Flux $[numparticles*yr^{-1}m^{-2}]$')\n",
    "plt.xlabel(r'Momentum, $[\\mu N s]$') # newton seconds  \n",
    "plt.legend()\n",
    "plt.grid(True)\n",
    "#plt.savefig('momentum distribution.png',dpi=200)\n",
    "plt.show()"
   ]
  },
  {
   "cell_type": "code",
   "execution_count": null,
   "id": "450df82c-33b4-4811-a8a2-9587054f8520",
   "metadata": {},
   "outputs": [],
   "source": []
  },
  {
   "cell_type": "code",
   "execution_count": null,
   "id": "47d32984-ec87-4699-ba7f-c5d700131692",
   "metadata": {},
   "outputs": [],
   "source": []
  }
 ],
 "metadata": {
  "@deathbeds/jupyterlab-fonts": {
   "fontLicenses": {},
   "fonts": {},
   "styles": {
    ":root": {
     "--jp-code-font-size": "15px",
     "--jp-code-line-height": "1"
    }
   }
  },
  "kernelspec": {
   "display_name": "Python 3 (ipykernel)",
   "language": "python",
   "name": "python3"
  },
  "language_info": {
   "codemirror_mode": {
    "name": "ipython",
    "version": 3
   },
   "file_extension": ".py",
   "mimetype": "text/x-python",
   "name": "python",
   "nbconvert_exporter": "python",
   "pygments_lexer": "ipython3",
   "version": "3.9.2"
  }
 },
 "nbformat": 4,
 "nbformat_minor": 5
}
