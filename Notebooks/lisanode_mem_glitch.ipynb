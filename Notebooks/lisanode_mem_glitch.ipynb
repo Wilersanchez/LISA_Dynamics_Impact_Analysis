{
 "cells": [
  {
   "cell_type": "markdown",
   "metadata": {},
   "source": [
    "# Meteoroid Glitch Injector"
   ]
  },
  {
   "cell_type": "markdown",
   "metadata": {},
   "source": [
    "The contents of this notebook is made to guide the user to (1) generate files from NASA's Meteoroid Engineering Model and (2) connect these files to LISANode simulator."
   ]
  },
  {
   "cell_type": "code",
   "execution_count": 1,
   "metadata": {},
   "outputs": [],
   "source": [
    "# Import libraries and modules\n",
    "import numpy as np\n",
    "import matplotlib.pyplot as plt\n",
    "import pandas as pd"
   ]
  },
  {
   "cell_type": "markdown",
   "metadata": {},
   "source": [
    "### Load relevant functions"
   ]
  },
  {
   "cell_type": "code",
   "execution_count": 3,
   "metadata": {},
   "outputs": [],
   "source": [
    "def GrunModel(m):\n",
    "    C     = np.array([2.2e3, 15, 1.3e-9, 1e11, 1e27, 1.3e-16, 1e6])\n",
    "    g     = np.array([0.306, -4.38, 2, 4, -0.36, 2, -0.85])\n",
    "\n",
    "    G = ((C[0]*(m**g[0])) + C[1])**g[1] + \\\n",
    "           C[2]*(m + C[3]*(m**g[2]) + C[4]*(m**g[3]))**g[4] + \\\n",
    "           C[5]*(m + C[6]*(m**g[5]))**g[6]\n",
    "    \n",
    "    return G"
   ]
  },
  {
   "cell_type": "markdown",
   "metadata": {},
   "source": [
    "## 1. Load MEM data"
   ]
  },
  {
   "cell_type": "code",
   "execution_count": 8,
   "metadata": {},
   "outputs": [],
   "source": [
    "files               = ['LISA_sc1_04_18_2023', 'LISA_sc2_04_30_2023', 'LISA_sc3_04_30_2023']\n",
    "densities           = ['HiDensity','LoDensity']\n",
    "\n",
    "numflux = 1652\n",
    "numv    = 80\n",
    "\n",
    "momd = {}\n",
    "mommapd = {}\n",
    "\n",
    "for nindex, name in enumerate(files):\n",
    "    for dindex, density in enumerate(densities):\n",
    "        \n",
    "        ##### PREPROCESSING #####\n",
    "\n",
    "        # We first need to make sure we are returning the correct velocity bin values\n",
    "        # Note, when we call cast the raw data to a pandas dataframe, the column names are offset by one element, so\n",
    "        # we take caution in initializing the values that correspond to the flux values.\n",
    "        velocity_bins = pd.concat([pd.Series(['THETAavg']), pd.Series(np.linspace(0.5, 78.5, 79))], ignore_index=True) \n",
    "\n",
    "        # Here we simply just read the table using pandas\n",
    "        iglooavg = pd.read_table(f\"/home/lisauser/workspace/MEM3_Windows_301/MEM3_Windows/{name}/{density}/igloo_avg.txt\",sep=\"\\s+\", header = 7)\n",
    "\n",
    "        # We take the matrix of flux values dependent on velocity and cast it to a numpy array with appropriate dimensions for processing\n",
    "        Fd = np.array([iglooavg[str(velocity_bins[i])] for i in range(numv)]).T\n",
    "\n",
    "        # Since each raw flux value is per solid angle interval, we need dPhi and dTheta to correct for that interval\n",
    "        dPhi   = (iglooavg['PHI1'] - iglooavg['J']) * (np.pi/180);\n",
    "        dTheta = (iglooavg['THETA1'] - iglooavg['PHI2']) * (np.pi/180);\n",
    "\n",
    "        # Construct preprocessed flux matrix using a vectorized for loop\n",
    "        Flux = np.array([[.5 * Fd[i, j] * np.cos(iglooavg['THETA2'].to_numpy()[i] * (np.pi/180)) * dPhi[i] * dTheta[i] for j in range(numv)] for i in range(numflux)])\n",
    "\n",
    "        ##### GRUN MODEL PROCESS #####\n",
    "        # Constants\n",
    "        numbins = 10\n",
    "        vbins = np.linspace(0.5, 79.5, numv)\n",
    "        momentumbins = np.logspace(-6, 3, numbins)\n",
    "        mass = np.logspace(-6, 1, numbins)\n",
    "\n",
    "        # Computing Grun Model flux \n",
    "        # Output: Flux_Grun(mass)\n",
    "        G = GrunModel(mass) * (365.25 * 24 * 3600)\n",
    "        dgrun = np.array([G[k] - G[k+1] for k in range(numbins - 1)])\n",
    "        dgrun /= np.sum(dgrun)\n",
    "        \n",
    "        # Construct Momentum Matrix w/ MEM velocity bins and mass array\n",
    "        momentum_mat = vbins.reshape(-1,1)@mass.reshape(1,-1)\n",
    "        \n",
    "        # Expanding flux array with an extra dimension: m (mass)\n",
    "        # Output: F(phi, theta, velocity, mass)\n",
    "        fluxM = np.array([[[Flux[ii, jj] * dgrun[kk] for kk in range(numbins-1)] for jj in range(numv)] for ii in range(numflux)])\n",
    "        \n",
    "        # Bin the expanded flux values into respective momentum bins\n",
    "        # Output: F_total_1d(momentum)\n",
    "        F_total_1d = np.zeros(numbins)\n",
    "        for l in range(numbins - 1):\n",
    "            for i in range(numflux):\n",
    "                for j in range(numv):\n",
    "                    for k in range(numbins - 1):\n",
    "                        if l == 0:\n",
    "                                if (momentum_mat[j, k] <= momentumbins[l]):\n",
    "                                    F_total_1d[l]     += fluxM[i, j, k]   \n",
    "                        elif l == (numbins - 1):\n",
    "                                if (momentumbins[l] <= momentum_mat[j, k]):\n",
    "                                    F_total_1d[l]     += fluxM[i, j, k]    \n",
    "                        else: \n",
    "                            if (momentumbins[l] <= momentum_mat[j, k] < momentumbins[l + 1]):\n",
    "                                    F_total_1d[l]     += fluxM[i, j, k] \n",
    "\n",
    "        # Bin the expanded flux values into respective momentum and sky position bins\n",
    "        # Output: F_total_2d(sky position, momentum)          \n",
    "        F_total_2d = np.zeros([numflux, numbins])\n",
    "        for l in range(numbins - 1):\n",
    "            for i in range(numflux):\n",
    "                for j in range(numv):\n",
    "                    for k in range(numbins - 1):\n",
    "                        if l == 0:\n",
    "                                if (momentum_mat[j, k] <= momentumbins[l]):\n",
    "                                    F_total_2d[i, l]     += fluxM[i, j, k]   \n",
    "                        elif l == (numbins - 1):\n",
    "                                if (momentumbins[l] <= momentum_mat[j, k]):\n",
    "                                    F_total_2d[i, l]     += fluxM[i, j, k]\n",
    "                        else: \n",
    "                            if (momentumbins[l] <= momentum_mat[j, k] < momentumbins[l + 1]):\n",
    "                                    F_total_2d[i, l]     += fluxM[i, j, k]\n",
    "\n",
    "        # Store data into respective dictionaries\n",
    "        momd[f'{spacecraft_names[nindex]}_{density}'] = F_total_1d\n",
    "        mommapd[f'{spacecraft_names[nindex]}_{density}'] = F_total_2d"
   ]
  },
  {
   "cell_type": "code",
   "execution_count": 9,
   "metadata": {},
   "outputs": [],
   "source": [
    "# Compute total flux across full constellation\n",
    "F_total_1d = (momd['Spacecraft 1_HiDensity'] + momd['Spacecraft 1_LoDensity'])  + \\\n",
    "             (momd['Spacecraft 2_HiDensity'] + momd['Spacecraft 2_LoDensity'])  + \\\n",
    "             (momd['Spacecraft 3_HiDensity'] + momd['Spacecraft 3_LoDensity']) \n",
    "\n",
    "# Compute total flux across full constellation restrict summation to 2d flux map\n",
    "F_total_2d = (mommapd['Spacecraft 1_HiDensity'] + mommapd['Spacecraft 1_LoDensity'])  + \\\n",
    "             (mommapd['Spacecraft 2_HiDensity'] + mommapd['Spacecraft 2_LoDensity'])  + \\\n",
    "             (mommapd['Spacecraft 3_HiDensity'] + mommapd['Spacecraft 3_LoDensity']) "
   ]
  },
  {
   "cell_type": "code",
   "execution_count": 109,
   "metadata": {},
   "outputs": [
    {
     "name": "stdout",
     "output_type": "stream",
     "text": [
      "(array([0, 1, 2, 3, 4, 5, 6, 7, 8, 9]),)\n",
      "(array([], dtype=int64),)\n"
     ]
    }
   ],
   "source": [
    "from scipy.stats import poisson\n",
    "\n",
    "p_total_1d = poisson.rvs(F_total_1d) * 84\n",
    "p_total_2d = poisson.rvs(F_total_2d) * 84 \n",
    "print(np.where(p_total_1d==0))\n",
    "print(np.where(p_total_1d!=0))"
   ]
  },
  {
   "cell_type": "code",
   "execution_count": 48,
   "metadata": {},
   "outputs": [
    {
     "data": {
      "text/plain": [
       "array([1.02093911e-07, 6.26461559e-02, 1.00800202e-02, 8.59027996e-04,\n",
       "       3.84934919e-05, 1.88463627e-06, 1.39626828e-07, 5.38896756e-09,\n",
       "       3.89982249e-11, 0.00000000e+00])"
      ]
     },
     "execution_count": 48,
     "metadata": {},
     "output_type": "execute_result"
    }
   ],
   "source": [
    "F_total_1d"
   ]
  },
  {
   "cell_type": "markdown",
   "metadata": {},
   "source": [
    "- The issue I am running into now is the fact that we have too little events happening and trying to feed those back in the simulator is going to be a pain\n",
    "- Let's see if we can try to make a 3d model of a cylinder and extract an impact angle and location on cylinder using sky position values from above."
   ]
  },
  {
   "cell_type": "code",
   "execution_count": null,
   "metadata": {},
   "outputs": [],
   "source": [
    "# Plotting a 3d cylinder on a 2d projection"
   ]
  }
 ],
 "metadata": {
  "kernelspec": {
   "display_name": "Python 3",
   "language": "python",
   "name": "python3"
  },
  "language_info": {
   "codemirror_mode": {
    "name": "ipython",
    "version": 3
   },
   "file_extension": ".py",
   "mimetype": "text/x-python",
   "name": "python",
   "nbconvert_exporter": "python",
   "pygments_lexer": "ipython3",
   "version": "3.9.2"
  },
  "orig_nbformat": 4
 },
 "nbformat": 4,
 "nbformat_minor": 2
}
